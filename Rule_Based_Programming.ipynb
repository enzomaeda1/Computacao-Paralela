{
  "nbformat": 4,
  "nbformat_minor": 0,
  "metadata": {
    "colab": {
      "provenance": [],
      "include_colab_link": true
    },
    "kernelspec": {
      "name": "python3",
      "display_name": "Python 3"
    },
    "language_info": {
      "name": "python"
    }
  },
  "cells": [
    {
      "cell_type": "markdown",
      "metadata": {
        "id": "view-in-github",
        "colab_type": "text"
      },
      "source": [
        "<a href=\"https://colab.research.google.com/github/enzomaeda1/Computacao-Paralela/blob/main/Rule_Based_Programming.ipynb\" target=\"_parent\"><img src=\"https://colab.research.google.com/assets/colab-badge.svg\" alt=\"Open In Colab\"/></a>"
      ]
    },
    {
      "cell_type": "markdown",
      "metadata": {
        "id": "4hadH8rWpp8X"
      },
      "source": [
        "# **Expert Systems, Rule‑Based Programming**\n",
        "\n",
        "Dmitry Soshnikov, Microsoft. Knowledge Representation and Expert Systems.\n",
        "https://github.com/microsoft/AI-For-Beginners/blob/main/lessons/2-Symbolic/README.md"
      ]
    },
    {
      "cell_type": "markdown",
      "source": [
        "# Representação do Conhecimento\n",
        "\n",
        "Um dos conceitos importantes na IA Simbólica é conhecimento . É importante diferenciar conhecimento de informação ou dados . Por exemplo, pode-se dizer que livros contêm conhecimento, porque se pode estudar livros e se tornar um especialista. No entanto, o que os livros contêm é, na verdade, chamado de dados , e ao ler livros e integrar esses dados em nosso modelo de mundo, convertemos esses dados em conhecimento.\n",
        "\n",
        "* **Conhecimento** é algo que está contido em nossa cabeça e representa nossa compreensão do mundo. Ele é obtido por um processo de aprendizagem ativo , que integra pedaços de informação que recebemos em nosso modelo ativo do mundo.\n",
        "\n",
        "Na maioria das vezes, não definimos conhecimento estritamente, mas o alinhamos com outros conceitos relacionados usando **DIKW Pyramid**. Ele contém os seguintes conceitos:\n",
        "\n",
        "* **Dados** são algo representado em mídia física, como texto escrito ou palavras faladas. Dados existem independentemente de seres humanos e podem ser passados ​​entre pessoas.\n",
        "* **Informação** é como interpretamos dados em nossa cabeça. Por exemplo, quando ouvimos a palavra computador , temos alguma compreensão do que ela é.\n",
        "* **Conhecimento** é informação sendo integrada ao nosso modelo de mundo. Por exemplo, uma vez que aprendemos o que é um computador, começamos a ter algumas ideias sobre como ele funciona, quanto custa e para que pode ser usado. Essa rede de conceitos inter-relacionados forma nosso conhecimento.\n",
        "* **A sabedoria** é mais um nível da nossa compreensão do mundo e representa o metaconhecimento , ou seja, alguma noção sobre como e quando o conhecimento deve ser usado.\n",
        "\n",
        "<br>\n",
        "\n",
        "<p>\n",
        "  <img src=\"https://upload.wikimedia.org/wikipedia/commons/thumb/0/06/DIKW_Pyramid.svg/494px-DIKW_Pyramid.svg.png?20220726215947\" width=\"30%\" align=\"left\"/>\n",
        "</p>\n",
        "\n"
      ],
      "metadata": {
        "id": "oAd9nBm4EOyA"
      }
    },
    {
      "cell_type": "markdown",
      "source": [
        "Assim, o problema da **representação do conhecimento** é encontrar alguma maneira efetiva de representar o conhecimento dentro de um computador na forma de dados, para torná-lo automaticamente utilizável. Isso pode ser visto como um espectro:\n",
        "\n",
        "<br>\n",
        "\n",
        "<p>\n",
        "  <img src=\"https://github.com/microsoft/AI-For-Beginners/blob/main/lessons/2-Symbolic/images/knowledge-spectrum.png?raw=true\" width=\"80%\" align=\"left\"/>\n",
        "</p>\n"
      ],
      "metadata": {
        "id": "jiv-QyEGFW1Z"
      }
    },
    {
      "cell_type": "markdown",
      "source": [
        "# Sistemas Especialistas\n",
        "\n",
        "Um dos primeiros sucessos da IA ​​simbólica foram os chamados **sistemas especialistas** - sistemas de computador que foram projetados para atuar como um especialista em algum domínio de problema limitado. Eles são baseados em uma base de conhecimento extraída de um ou mais especialistas e contêm um mecanismo de inferência que realiza algum tipo raciocínio sobre essa base."
      ],
      "metadata": {
        "id": "0qFD_JiXJZh2"
      }
    },
    {
      "cell_type": "markdown",
      "source": [
        "Existem várias formas de representar o conhecimento. Representações de rede, por exemplo, são baseadas no fato de que temos uma rede de conceitos inter-relacionados e podemos tentar reproduzir isso com um grafo em um computador - isto é uma rede *semântica*.\n",
        "\n",
        "<br>\n",
        "\n",
        "<p>\n",
        "  <img src=\"https://github.com/microsoft/AI-For-Beginners/raw/main/lessons/2-Symbolic/images/AND-OR-Tree.png\" width=\"80%\" align=\"left\"/>\n",
        "</p>\n",
        "\n",
        "<br>\n",
        "\n"
      ],
      "metadata": {
        "id": "7fiAbnDXGLIh"
      }
    },
    {
      "cell_type": "markdown",
      "source": [
        "Este diagrama é chamado de árvore AND-OR , e é uma representação gráfica de um conjunto de **regras de produção**. Desenhar uma árvore é útil no início da extração de conhecimento do especialista. Para representar o conhecimento dentro do computador, entretanto, pode ser mais conveniente usar regras:\n",
        "\n",
        "```\n",
        "IF the animal eats meat\n",
        "OR (animal has sharp teeth\n",
        "    AND animal has claws\n",
        "    AND animal has forward-looking eyes\n",
        ")\n",
        "THEN the animal is a carnivore\n",
        "```\n",
        "\n",
        "Você pode notar que cada condição no lado esquerdo da regra e a ação são essencialmente triplas objeto-atributo-valor (OAV)."
      ],
      "metadata": {
        "id": "f5AS-3NeHhfR"
      }
    },
    {
      "cell_type": "markdown",
      "source": [
        "# Inferência para frente vs. para trás\n",
        "\n",
        "O processo descrito acima é chamado de **forward inference**, ou **inferência direta**. Ele começa com alguns dados iniciais sobre o problema disponíveis na memória de trabalho e, em seguida, executa o seguinte loop de raciocínio:\n",
        "\n",
        "0. Inicie a memória de trabalho as regras desejadas.\n",
        "1. Se o atributo alvo estiver presente memória de trabalho - pare e forneça o resultado\n",
        "2. Procure todas as regras cuja condição seja atualmente satisfeita - obtenha um conjunto de regras de conflito .\n",
        "3. Execute a resolução de conflitos - selecione uma regra que será executada nesta etapa. Pode haver diferentes estratégias de resolução de conflitos:\n",
        "  - Selecione a primeira regra aplicável na base de conhecimento\n",
        "  - Selecione uma regra aleatória\n",
        "  - Selecione uma regra mais específica , ou seja, aquela que atende a mais condições no \"lado esquerdo\" (LHS)\n",
        "4. Aplicar a regra selecionada e inserir um novo conhecimento no estado do problema\n",
        "5. Repita a partir do passo 1.\n",
        "\n",
        "Em alguns casos, entretanto, podemos querer começar com um conhecimento vazio sobre o problema e fazer perguntas que nos ajudarão a chegar à conclusão. Por exemplo, ao fazer um diagnóstico médico, geralmente não realizamos todas as análises médicas com antecedência antes de começar a diagnosticar o paciente. Em vez disso, queremos realizar análises quando uma decisão precisa ser tomada.Neste caso, o processo pode ser modelado usando **inferência reversa**. Ele é conduzido pelo objetivo - o valor do atributo que estamos procurando encontrar.\n",
        "\n",
        "Aqui, trataremos unicamente da **inferência direta**, mas você pode consultar as referências e ver a solução de um problema de inferência reversa."
      ],
      "metadata": {
        "id": "xKjufbL6H8ah"
      }
    },
    {
      "cell_type": "markdown",
      "source": [
        "# **CLIPS, PyKnow, Rule‑Based Programming**\n",
        "\n",
        "[**PyKnow**](https://github.com/buguroo/pyknow/) é uma biblioteca para criar sistemas de inferência direta em Python projetada para ser similar ao antigo sistema clássico [CLIPS](http://www.clipsrules.net/index.html).\n",
        "\n",
        "Você poderia fazer uma implementação direta sem muitos problemas, mas implementações ingênuas geralmente não são eficientes e o PyKnow (e o CLIPS) implementa um algoritmo especial de inferência, o [Rete](https://en.wikipedia.org/wiki/Rete_algorithm), bastante eficiente."
      ],
      "metadata": {
        "id": "bgGjkdFeEUsJ"
      }
    },
    {
      "cell_type": "code",
      "source": [
        "!pip uninstall yfinance # incompatível com o pyknow"
      ],
      "metadata": {
        "id": "ZjhW8h5wq9zO",
        "outputId": "436ebe74-5e6e-4aaa-934f-bda8ce5b33ab",
        "colab": {
          "base_uri": "https://localhost:8080/"
        }
      },
      "execution_count": 4,
      "outputs": [
        {
          "output_type": "stream",
          "name": "stdout",
          "text": [
            "Found existing installation: yfinance 0.2.55\n",
            "Uninstalling yfinance-0.2.55:\n",
            "  Would remove:\n",
            "    /usr/local/bin/sample\n",
            "    /usr/local/lib/python3.11/dist-packages/yfinance-0.2.55.dist-info/*\n",
            "    /usr/local/lib/python3.11/dist-packages/yfinance/*\n",
            "Proceed (Y/n)? Y\n",
            "  Successfully uninstalled yfinance-0.2.55\n"
          ]
        }
      ]
    },
    {
      "cell_type": "code",
      "execution_count": 5,
      "metadata": {
        "trusted": true,
        "id": "wmGz_BUKpp8Y",
        "outputId": "7dbce0ae-9d50-4ba5-bb7d-c13d9cb1e40d",
        "colab": {
          "base_uri": "https://localhost:8080/"
        }
      },
      "outputs": [
        {
          "output_type": "stream",
          "name": "stdout",
          "text": [
            "Collecting git+https://github.com/buguroo/pyknow/\n",
            "  Cloning https://github.com/buguroo/pyknow/ to /tmp/pip-req-build-365t8r17\n",
            "  Running command git clone --filter=blob:none --quiet https://github.com/buguroo/pyknow/ /tmp/pip-req-build-365t8r17\n",
            "  Resolved https://github.com/buguroo/pyknow/ to commit 48818336f2e9a126f1964f2d8dc22d37ff800fe8\n",
            "  Preparing metadata (setup.py) ... \u001b[?25l\u001b[?25hdone\n",
            "Collecting frozendict==1.2 (from pyknow==1.7.0)\n",
            "  Downloading frozendict-1.2.tar.gz (2.6 kB)\n",
            "  Preparing metadata (setup.py) ... \u001b[?25l\u001b[?25hdone\n",
            "Collecting schema==0.6.7 (from pyknow==1.7.0)\n",
            "  Downloading schema-0.6.7-py2.py3-none-any.whl.metadata (14 kB)\n",
            "Downloading schema-0.6.7-py2.py3-none-any.whl (14 kB)\n",
            "Building wheels for collected packages: pyknow, frozendict\n",
            "  Building wheel for pyknow (setup.py) ... \u001b[?25l\u001b[?25hdone\n",
            "  Created wheel for pyknow: filename=pyknow-1.7.0-py3-none-any.whl size=34226 sha256=00e2f1bb2a6ba2d4430272cf7f046bf55fb4bd5e903fc1b7a8e1aa07660a3e66\n",
            "  Stored in directory: /tmp/pip-ephem-wheel-cache-vrfa32md/wheels/81/1a/d3/f6c15dbe1955598a37755215f2a10449e7418500d7bd4b9508\n",
            "  Building wheel for frozendict (setup.py) ... \u001b[?25l\u001b[?25hdone\n",
            "  Created wheel for frozendict: filename=frozendict-1.2-py3-none-any.whl size=3149 sha256=6700a987a7d77312b86eff583f8b4f44128cf1b6714fa66589e1179068114dc7\n",
            "  Stored in directory: /root/.cache/pip/wheels/49/ac/f8/cb8120244e710bdb479c86198b03c7b08c3c2d3d2bf448fd6e\n",
            "Successfully built pyknow frozendict\n",
            "Installing collected packages: schema, frozendict, pyknow\n",
            "  Attempting uninstall: frozendict\n",
            "    Found existing installation: frozendict 2.4.6\n",
            "    Uninstalling frozendict-2.4.6:\n",
            "      Successfully uninstalled frozendict-2.4.6\n",
            "Successfully installed frozendict-1.2 pyknow-1.7.0 schema-0.6.7\n"
          ]
        }
      ],
      "source": [
        "import sys\n",
        "!{sys.executable} -m pip install git+https://github.com/buguroo/pyknow/"
      ]
    },
    {
      "cell_type": "code",
      "source": [
        "import collections.abc\n",
        "collections.Mapping = collections.abc.Mapping\n",
        "\n",
        "from pyknow import *"
      ],
      "metadata": {
        "id": "03g-vliFsLpL"
      },
      "execution_count": 6,
      "outputs": []
    },
    {
      "cell_type": "markdown",
      "metadata": {
        "id": "TGUdT7CIpp8Y"
      },
      "source": [
        "Definimos nosso sistema como uma classe que subclassifica `KnowledgeEngine`. Cada regra é definida por uma função separada com a anotação `@Rule`, que especifica quando a regra deve disparar. Dentro da regra, podemos adicionar novos fatos usando a função `declare`. Adicionar esses fatos resultará em mais regras sendo chamadas pelo mecanismo de inferência direta.\n",
        "\n"
      ]
    },
    {
      "cell_type": "markdown",
      "source": [
        "## Exemplo: Sócrates é Mortal!"
      ],
      "metadata": {
        "id": "BNeWxE6DAv-w"
      }
    },
    {
      "cell_type": "code",
      "source": [
        "class Humans(KnowledgeEngine):\n",
        "    @Rule(Fact('human'))\n",
        "    def mortal(self):\n",
        "        self.declare(Fact('mortal'))\n",
        "\n",
        "    @Rule(Fact('socrates'))\n",
        "    def human(self):\n",
        "        self.declare(Fact('human'))\n",
        "\n",
        "    def factz(self,l):\n",
        "      for x in l:\n",
        "          self.declare(x)"
      ],
      "metadata": {
        "id": "YuCMFBUZtOD3"
      },
      "execution_count": 7,
      "outputs": []
    },
    {
      "cell_type": "markdown",
      "metadata": {
        "id": "XR0zWtkDpp8Z"
      },
      "source": [
        "Uma vez que definimos uma base de conhecimento, preenchemos nossa memória de trabalho com alguns fatos iniciais e, então, chamamos o método `run()` para executar a inferência. Você pode ver como resultado que novos fatos inferidos são adicionados à memória de trabalho, incluindo o fato final sobre o animal (se configurarmos todos os fatos iniciais corretamente)."
      ]
    },
    {
      "cell_type": "code",
      "source": [
        "ex = Humans()\n",
        "ex.reset()\n",
        "ex.factz([Fact('socrates')])\n",
        "ex.run()\n",
        "ex.facts"
      ],
      "metadata": {
        "colab": {
          "base_uri": "https://localhost:8080/"
        },
        "id": "yPvcDvta-gKD",
        "outputId": "ae3e38c8-162a-474e-d367-afe2c6f4ba25"
      },
      "execution_count": 8,
      "outputs": [
        {
          "output_type": "execute_result",
          "data": {
            "text/plain": [
              "FactList([(0, InitialFact()),\n",
              "          (1, Fact('socrates')),\n",
              "          (2, Fact('human')),\n",
              "          (3, Fact('mortal'))])"
            ]
          },
          "metadata": {},
          "execution_count": 8
        }
      ]
    },
    {
      "cell_type": "markdown",
      "source": [
        "# Um exemplo mais completo: Taxonomia Animal"
      ],
      "metadata": {
        "id": "Jy_Sz5Su-lZ9"
      }
    },
    {
      "cell_type": "code",
      "execution_count": 9,
      "metadata": {
        "trusted": true,
        "id": "qvaTCjHipp8Y"
      },
      "outputs": [],
      "source": [
        "class Animals(KnowledgeEngine):\n",
        "    @Rule(OR(\n",
        "           AND(Fact('sharp teeth'),Fact('claws'),Fact('forward looking eyes')),\n",
        "           Fact('eats meat')))\n",
        "    def cornivor(self):\n",
        "        self.declare(Fact('carnivor'))\n",
        "\n",
        "    @Rule(OR(Fact('hair'),Fact('gives milk')))\n",
        "    def mammal(self):\n",
        "        self.declare(Fact('mammal'))\n",
        "\n",
        "    @Rule(Fact('mammal'),\n",
        "          OR(Fact('has hooves'),Fact('chews cud')))\n",
        "    def hooves(self):\n",
        "        self.declare('ungulate')\n",
        "\n",
        "    @Rule(OR(Fact('feathers'),AND(Fact('flies'),Fact('lays eggs'))))\n",
        "    def bird(self):\n",
        "        self.declare('bird')\n",
        "\n",
        "    @Rule(Fact('mammal'),Fact('carnivor'),\n",
        "          Fact(color='red-brown'),\n",
        "          Fact(pattern='dark spots'))\n",
        "    def monkey(self):\n",
        "        self.declare(Fact(animal='monkey'))\n",
        "\n",
        "    @Rule(Fact('mammal'),Fact('carnivor'),\n",
        "          Fact(color='red-brown'),\n",
        "          Fact(pattern='dark stripes'))\n",
        "    def tiger(self):\n",
        "        self.declare(Fact(animal='tiger'))\n",
        "\n",
        "    @Rule(Fact('ungulate'),\n",
        "          Fact('long neck'),\n",
        "          Fact('long legs'),\n",
        "          Fact(pattern='dark spots'))\n",
        "    def giraffe(self):\n",
        "        self.declare(Fact(animal='giraffe'))\n",
        "\n",
        "    @Rule(Fact('ungulate'),\n",
        "          Fact(pattern='dark stripes'))\n",
        "    def zebra(self):\n",
        "        self.declare(Fact(animal='zebra'))\n",
        "\n",
        "    @Rule(Fact('bird'),\n",
        "          Fact('long neck'),\n",
        "          Fact('cannot fly'),\n",
        "          Fact(color='black and white'))\n",
        "    def straus(self):\n",
        "        self.declare(Fact(animal='ostrich'))\n",
        "\n",
        "    @Rule(Fact('bird'),\n",
        "          Fact('swims'),\n",
        "          Fact('cannot fly'),\n",
        "          Fact(color='black and white'))\n",
        "    def pinguin(self):\n",
        "        self.declare(Fact(animal='pinguin'))\n",
        "\n",
        "    @Rule(Fact('bird'),\n",
        "          Fact('flies well'))\n",
        "    def albatros(self):\n",
        "        self.declare(Fact(animal='albatross'))\n",
        "\n",
        "    @Rule(Fact(animal=MATCH.a))\n",
        "    def print_result(self,a):\n",
        "          print('Animal is {}'.format(a))\n",
        "\n",
        "    def factz(self,l):\n",
        "        for x in l:\n",
        "            self.declare(x)"
      ]
    },
    {
      "cell_type": "code",
      "execution_count": 11,
      "metadata": {
        "trusted": true,
        "id": "MalmD6QLpp8Z",
        "outputId": "09a97053-bd45-4a66-e4e5-ba0f1018465e",
        "colab": {
          "base_uri": "https://localhost:8080/"
        }
      },
      "outputs": [
        {
          "output_type": "execute_result",
          "data": {
            "text/plain": [
              "FactList([(0, InitialFact()), (1, Fact('has hooves'))])"
            ]
          },
          "metadata": {},
          "execution_count": 11
        }
      ],
      "source": [
        "ex1 = Animals()\n",
        "ex1.reset()\n",
        "ex1.factz([\n",
        "    Fact(color='red-brown'),\n",
        "    Fact(pattern='dark stripes'),\n",
        "    Fact('sharp teeth'),\n",
        "    Fact('claws'),\n",
        "    Fact('forward looking eyes'),\n",
        "    Fact('gives milk')])\n",
        "ex1.run()\n",
        "ex1.facts"
      ]
    },
    {
      "cell_type": "markdown",
      "source": [
        "# Exercício\n",
        "\n",
        "Crie um conjunto de regras original, por exemplo classificando alimentos, remédios, pássaros, flores, produtos de varejo, filmes, músicas ou os cursos de nossa Universidade (mínimo 16 regras, e regras compostas), e explore os resultados. A entrega deve ser feita em um notebook (Colab) 100% executável. Inclua textos explicativos (é um notebook) e as referências empregadas.\n",
        "\n",
        "Atividade em grupo, máx 5 alunos.\n",
        "\n",
        "#### **Referências úteis**\n",
        "\n",
        "- Notas de aula\n",
        "\n",
        "- https://github.com/buguroo/pyknow/\n",
        "\n",
        "#### **Entregas**\n",
        "\n",
        "- **26.03** Entrega única\n",
        "\n",
        "\n",
        "\n"
      ],
      "metadata": {
        "id": "1T0BjUBP3q0i"
      }
    }
  ]
}