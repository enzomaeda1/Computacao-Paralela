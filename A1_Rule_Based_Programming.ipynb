{
  "nbformat": 4,
  "nbformat_minor": 0,
  "metadata": {
    "kernelspec": {
      "display_name": "Python 3",
      "language": "python",
      "name": "python3"
    },
    "language_info": {
      "codemirror_mode": {
        "name": "ipython",
        "version": 3
      },
      "file_extension": ".py",
      "mimetype": "text/x-python",
      "name": "python",
      "nbconvert_exporter": "python",
      "pygments_lexer": "ipython3",
      "version": "3.7.4"
    },
    "colab": {
      "provenance": [],
      "include_colab_link": true
    }
  },
  "cells": [
    {
      "cell_type": "markdown",
      "metadata": {
        "id": "view-in-github",
        "colab_type": "text"
      },
      "source": [
        "<a href=\"https://colab.research.google.com/github/enzomaeda1/Computacao-Paralela/blob/main/A1_Rule_Based_Programming.ipynb\" target=\"_parent\"><img src=\"https://colab.research.google.com/assets/colab-badge.svg\" alt=\"Open In Colab\"/></a>"
      ]
    },
    {
      "cell_type": "markdown",
      "metadata": {
        "id": "40b90843"
      },
      "source": [
        "<img src=\"http://meusite.mackenzie.br/rogerio/mackenzie_logo/UPM.2_horizontal_vermelho.jpg\"  width=300, align=\"right\">\n",
        "<br>\n",
        "<br>\n",
        "<br>\n",
        "<br>\n",
        "<br>\n",
        "\n",
        "# **Expert Systems, Rule‑Based Programming `PyKnown`**\n",
        "---\n"
      ]
    },
    {
      "cell_type": "code",
      "metadata": {
        "id": "rYx9D4GZA5o9",
        "cellView": "form"
      },
      "source": [
        "#@title **Identificação do Grupo**\n",
        "\n",
        "#@markdown Integrantes do Grupo, nome completo em orgem alfabética (*informe \\<RA\\>,\\<nome\\>*)\n",
        "Aluno1 = '10364987, Enzo Ryo Maeda Kanbayashi' #@param {type:\"string\"}\n",
        "Aluno2 = 'None' #@param {type:\"string\"}\n",
        "Aluno3 = 'None' #@param {type:\"string\"}\n",
        "Aluno4 = 'None' #@param {type:\"string\"}\n",
        "Aluno5 = 'None' #@param {type:\"string\"}\n",
        "\n"
      ],
      "execution_count": null,
      "outputs": []
    },
    {
      "cell_type": "markdown",
      "source": [
        "# **Resumo**\n",
        "\n",
        "*Apresente um parágrafo resumindo o que é feito neste trabalho*.\n",
        "\n",
        "Nesta atividade, foi criado um conjunto estruturado de regras que associam filmes a seus respectivos gêneros, levando em consideração as características que definem cada categoria cinematográfica.\n",
        "\n",
        "Definição dos Gêneros\n",
        "Foram estabelecidos diferentes gêneros de filmes, como:\n",
        "\n",
        "* Ação: Filmes que envolvem cenas intensas de combate, perseguições e adrenalina.\n",
        "\n",
        "* Terror: Produções que buscam causar medo, com elementos como sustos, suspense e criaturas sobrenaturais.\n",
        "\n",
        "* Comédia: Narrativas focadas no humor, situações engraçadas e personagens carismáticos.\n",
        "\n",
        "* Drama: Filmes que enfatizam o desenvolvimento emocional dos personagens e conflitos profundos.\n",
        "\n",
        "* Ficção científica: Exploram temas futuristas, tecnologia avançada e realidades alternativas.\n",
        "\n",
        "* Romance: Histórias centradas em relacionamentos amorosos e emoções envolventes.\n",
        "\n",
        "* Fantasia: Filmes que se caracterizam por temas imaginativos e fantásticos, como magia, eventos sobrenaturais ou mundos de fantasia."
      ],
      "metadata": {
        "id": "JlCIc2YooBW7"
      }
    },
    {
      "cell_type": "markdown",
      "source": [
        "# **Implementação**\n",
        "\n",
        "*Aqui o código da sua solução. Você deve explicar em linhas gerais o código. Para isso você pode quebrar o código em algumas partes e incluir células de texto explicativos. Não empregue para isso comentários no corpo do código, mas crie células de texto do notebook.*\n",
        "\n",
        "> ***ATENÇÃO: O código deve ser 100% executável no Colab e, portanto, não devem ser empregados arquivos locais (da sua máquina) e, se necessário, devem ser incluídos o install de novas bibliotecas empregadas.***\n",
        "\n"
      ],
      "metadata": {
        "id": "FyFHbT8vygVp"
      }
    },
    {
      "cell_type": "code",
      "source": [
        "# Seus Códigos aqui intercalados de células de texto com comentários\n",
        "\n",
        "!pip uninstall yfinance # incompatível com o pyknowY\n"
      ],
      "metadata": {
        "id": "47WSkdIDxpjM",
        "colab": {
          "base_uri": "https://localhost:8080/"
        },
        "outputId": "ccebf030-3416-47ba-b247-f4e679b2eadf"
      },
      "execution_count": 1,
      "outputs": [
        {
          "output_type": "stream",
          "name": "stdout",
          "text": [
            "Found existing installation: yfinance 0.2.55\n",
            "Uninstalling yfinance-0.2.55:\n",
            "  Would remove:\n",
            "    /usr/local/bin/sample\n",
            "    /usr/local/lib/python3.11/dist-packages/yfinance-0.2.55.dist-info/*\n",
            "    /usr/local/lib/python3.11/dist-packages/yfinance/*\n",
            "Proceed (Y/n)? Y\n",
            "  Successfully uninstalled yfinance-0.2.55\n"
          ]
        }
      ]
    },
    {
      "cell_type": "code",
      "source": [
        "import sys\n",
        "!{sys.executable} -m pip install git+https://github.com/buguroo/pyknow/"
      ],
      "metadata": {
        "colab": {
          "base_uri": "https://localhost:8080/"
        },
        "id": "6ulrTShdU5Sl",
        "outputId": "5061d030-7acf-4b12-8285-71f86093b980"
      },
      "execution_count": 2,
      "outputs": [
        {
          "output_type": "stream",
          "name": "stdout",
          "text": [
            "Collecting git+https://github.com/buguroo/pyknow/\n",
            "  Cloning https://github.com/buguroo/pyknow/ to /tmp/pip-req-build-vd3lzf6q\n",
            "  Running command git clone --filter=blob:none --quiet https://github.com/buguroo/pyknow/ /tmp/pip-req-build-vd3lzf6q\n",
            "  Resolved https://github.com/buguroo/pyknow/ to commit 48818336f2e9a126f1964f2d8dc22d37ff800fe8\n",
            "  Preparing metadata (setup.py) ... \u001b[?25l\u001b[?25hdone\n",
            "Collecting frozendict==1.2 (from pyknow==1.7.0)\n",
            "  Downloading frozendict-1.2.tar.gz (2.6 kB)\n",
            "  Preparing metadata (setup.py) ... \u001b[?25l\u001b[?25hdone\n",
            "Collecting schema==0.6.7 (from pyknow==1.7.0)\n",
            "  Downloading schema-0.6.7-py2.py3-none-any.whl.metadata (14 kB)\n",
            "Downloading schema-0.6.7-py2.py3-none-any.whl (14 kB)\n",
            "Building wheels for collected packages: pyknow, frozendict\n",
            "  Building wheel for pyknow (setup.py) ... \u001b[?25l\u001b[?25hdone\n",
            "  Created wheel for pyknow: filename=pyknow-1.7.0-py3-none-any.whl size=34226 sha256=033bec551b71343f9649c0df5a0444174ad889754c4589020e8c85fa698ec5b0\n",
            "  Stored in directory: /tmp/pip-ephem-wheel-cache-bm_akqce/wheels/81/1a/d3/f6c15dbe1955598a37755215f2a10449e7418500d7bd4b9508\n",
            "  Building wheel for frozendict (setup.py) ... \u001b[?25l\u001b[?25hdone\n",
            "  Created wheel for frozendict: filename=frozendict-1.2-py3-none-any.whl size=3149 sha256=ee7e40767b8547b6fde4411b9261b91308c2909eb619172c8fbdcba6b385f7a1\n",
            "  Stored in directory: /root/.cache/pip/wheels/49/ac/f8/cb8120244e710bdb479c86198b03c7b08c3c2d3d2bf448fd6e\n",
            "Successfully built pyknow frozendict\n",
            "Installing collected packages: schema, frozendict, pyknow\n",
            "  Attempting uninstall: frozendict\n",
            "    Found existing installation: frozendict 2.4.6\n",
            "    Uninstalling frozendict-2.4.6:\n",
            "      Successfully uninstalled frozendict-2.4.6\n",
            "Successfully installed frozendict-1.2 pyknow-1.7.0 schema-0.6.7\n"
          ]
        }
      ]
    },
    {
      "cell_type": "code",
      "source": [
        "import collections.abc\n",
        "collections.Mapping = collections.abc.Mapping\n",
        "\n",
        "from pyknow import *"
      ],
      "metadata": {
        "id": "DtEjOEfgVihK"
      },
      "execution_count": 4,
      "outputs": []
    },
    {
      "cell_type": "code",
      "source": [
        "#Set de regras dos filmes\n",
        "\n",
        "class Filmes(KnowledgeEngine):\n",
        "\n",
        "    @Rule(OR(Fact('explosoes'),Fact('tiro'),Fact('adrenalina')))\n",
        "    def action(self):\n",
        "        self.declare(Fact('acao'))\n",
        "\n",
        "    @Rule(OR(Fact('exploracao'),Fact('enigmas'),Fact('obstaculos')))\n",
        "    def aventura(self):\n",
        "        self.declare(Fact('aventura'))\n",
        "\n",
        "    @Rule(OR(Fact('susto'),Fact('medo'),Fact('aterrorizante')))\n",
        "    def terror(self):\n",
        "        self.declare(Fact('terror'))\n",
        "\n",
        "    @Rule(OR(Fact('tensao'),Fact('nervosismo')))\n",
        "    def suspense(self):\n",
        "        self.declare(Fact('suspense'))\n",
        "\n",
        "    @Rule(OR(Fact('amor'),Fact('final feliz')))\n",
        "    def romance(self):\n",
        "        self.declare(Fact('romance'))\n",
        "\n",
        "    @Rule(OR(Fact('engracado'),Fact('divertido'),Fact('piadas')))\n",
        "    def comedia(self):\n",
        "        self.declare(Fact('comedia'))\n",
        "\n",
        "    @Rule(OR(Fact('emocoes'),Fact('licoes'),Fact('temas corriqueiros')))\n",
        "    def drama(self):\n",
        "        self.declare(Fact('drama'))\n",
        "\n",
        "    @Rule(OR(Fact('cientifico'),Fact('tecnologia'),Fact('futuro')))\n",
        "    def fc(self):\n",
        "        self.declare(Fact('ficcao cientifica'))\n",
        "\n",
        "    @Rule(OR(Fact('magia'),Fact('sobrenatural'),Fact('imaginacao')))\n",
        "    def fantasia(self):\n",
        "        self.declare(Fact('fantasia'))\n",
        "\n",
        "    @Rule(OR(Fact('musica'),Fact('cancoes')))\n",
        "    def musical(self):\n",
        "        self.declare(Fact('musical'))\n",
        "\n",
        "    @Rule(Fact('aventura'),\n",
        "          Fact('ficcao cientifica'),\n",
        "          Fact(heroi = 'Luke'),\n",
        "          Fact(vilao = 'Vader'))\n",
        "    def StarWars(self):\n",
        "        self.declare(Fact(filme='Star Wars'))\n",
        "\n",
        "    @Rule(Fact('suspense'),\n",
        "          Fact('terror'),\n",
        "          Fact(vilao = 'Nosferatu'))\n",
        "    def Nosferatu(self):\n",
        "        self.declare(Fact(filme='Nosferatu'))\n",
        "\n",
        "    @Rule(Fact('comedia'),\n",
        "          Fact('drama'),\n",
        "          Fact(ator = 'Adam Sandler'))\n",
        "    def Click(self):\n",
        "        self.declare(Fact(filme='Click'))\n",
        "\n",
        "    @Rule(Fact('terror'),\n",
        "          Fact('ficcao cientifica'),\n",
        "          Fact(heroi = 'Ripley'),\n",
        "          Fact(vilao = 'Alien'))\n",
        "    def Alien(self):\n",
        "        self.declare(Fact(filme='Alien'))\n",
        "\n",
        "    @Rule(Fact('musical'),\n",
        "          Fact('drama'),\n",
        "          Fact(qualidade = 'ruim'))\n",
        "    def EmiliaPerez(self):\n",
        "        self.declare(Fact(filme='Emilia Perez'))\n",
        "\n",
        "    @Rule(Fact('acao'),\n",
        "          Fact('aventura'),\n",
        "          Fact(heroi = 'Vingadores'))\n",
        "    def Vingadores(self):\n",
        "        self.declare(Fact(filme='Vingadores'))\n",
        "\n",
        "    @Rule(Fact('romance'),\n",
        "          Fact('comedia'),\n",
        "          Fact(numero = '500'))\n",
        "    def quinhentos(self):\n",
        "        self.declare(Fact(filme='500 dias com ela'))\n",
        "\n",
        "\n",
        "    @Rule(Fact(filme=MATCH.a))\n",
        "    def print_result(self,a):\n",
        "          print('Film is {}'.format(a))\n",
        "\n",
        "    def factz(self,l):\n",
        "        for x in l:\n",
        "            self.declare(x)"
      ],
      "metadata": {
        "id": "yauDSiKaVA_d"
      },
      "execution_count": 61,
      "outputs": []
    },
    {
      "cell_type": "markdown",
      "source": [
        "# **Resultados (Testes)**\n",
        "\n",
        "*Um ou mais testes da solução devem ser apresentados ao final. Comente em células de texto explicativas os testes e os seus resultados.*"
      ],
      "metadata": {
        "id": "vO9xbwBTJDQ7"
      }
    },
    {
      "cell_type": "code",
      "source": [
        "# Seus Códigos aqui intercalados de células de texto com comentários\n",
        "# Teste para ver se as regras estão funcionando\n",
        "ex1 = Filmes()\n",
        "ex1.reset()\n",
        "ex1.factz([\n",
        "    Fact('obstaculos'),\n",
        "    Fact('tecnologia'),\n",
        "    Fact(heroi = 'Luke'),\n",
        "    Fact(vilao = 'Vader')])\n",
        "ex1.run()\n",
        "ex1.facts\n",
        "\n",
        "ex2 = Filmes()\n",
        "ex2.reset()\n",
        "ex2.factz([\n",
        "    Fact('emocoes'),\n",
        "    Fact('musica'),\n",
        "    Fact(qualidade = 'ruim')])\n",
        "ex2.run()\n",
        "ex2.facts"
      ],
      "metadata": {
        "id": "mVf_l2YTJPXY",
        "colab": {
          "base_uri": "https://localhost:8080/"
        },
        "outputId": "07d05ffd-1bd2-4b30-a7c1-2c20dac1b988"
      },
      "execution_count": 62,
      "outputs": [
        {
          "output_type": "stream",
          "name": "stdout",
          "text": [
            "Film is Star Wars\n",
            "Film is Emilia Perez\n"
          ]
        },
        {
          "output_type": "execute_result",
          "data": {
            "text/plain": [
              "FactList([(0, InitialFact()),\n",
              "          (1, Fact('emocoes')),\n",
              "          (2, Fact('musica')),\n",
              "          (3, Fact(qualidade='ruim')),\n",
              "          (4, Fact('musical')),\n",
              "          (5, Fact('drama')),\n",
              "          (6, Fact(filme='Emilia Perez'))])"
            ]
          },
          "metadata": {},
          "execution_count": 62
        }
      ]
    },
    {
      "cell_type": "markdown",
      "source": [
        "# **Referências**\n",
        "\n",
        "Este é um item obrigatório. Inclua aqui o as referências, fontes, ou bibliografia e sites/bibliotecas empregadas em formato ABNT."
      ],
      "metadata": {
        "id": "7LtXrRFr4hg3"
      }
    },
    {
      "cell_type": "markdown",
      "source": [
        "*   Notas da aula\n",
        "\n",
        "\n"
      ],
      "metadata": {
        "id": "LeSEnVjTmFLJ"
      }
    },
    {
      "cell_type": "markdown",
      "metadata": {
        "id": "8crUBC3IQ3U_"
      },
      "source": [
        "---"
      ]
    }
  ]
}